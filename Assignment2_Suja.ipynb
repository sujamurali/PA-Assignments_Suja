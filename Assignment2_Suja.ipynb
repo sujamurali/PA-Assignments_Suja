{
 "cells": [
  {
   "cell_type": "code",
   "execution_count": 27,
   "metadata": {
    "collapsed": false
   },
   "outputs": [
    {
     "name": "stdout",
     "output_type": "stream",
     "text": [
      "['road', 'ribbon', 'riding', 'riding', 'riding,']\n"
     ]
    }
   ],
   "source": [
    "#Question1\n",
    "lyrics= '''the wind was a torrent of darkness among the gusty trees   \n",
    "the moon was a ghostly galleon tossed upon cloudy seas   \n",
    "the road was a ribbon of moonlight over the purple moor   \n",
    "and the highwayman came riding \n",
    "riding riding \n",
    "the highwayman came riding, up to the old inn-door \n",
    "''' \n",
    "list_1 = lyrics.split(' ')\n",
    "words = [word for word in list_1 if word.startswith('r')]\n",
    "print words"
   ]
  },
  {
   "cell_type": "code",
   "execution_count": 28,
   "metadata": {
    "collapsed": false
   },
   "outputs": [
    {
     "name": "stdout",
     "output_type": "stream",
     "text": [
      "['the', 'wind', 'was', 'a', 'torrent', 'of', 'darkness', 'among', 'gusty', 'trees', '', '\\nthe', 'moon', 'ghostly', 'galleon', 'tossed', 'upon', 'cloudy', 'seas', 'road', 'ribbon', 'moonlight', 'over', 'purple', 'moor', '\\nand', 'highwayman', 'came', 'riding', '\\nriding', 'riding,', 'up', 'to', 'old', 'inn-door', '\\n']\n"
     ]
    }
   ],
   "source": [
    "#Question 2\n",
    "\n",
    "lyrics= '''the wind was a torrent of darkness among the gusty trees   \n",
    "the moon was a ghostly galleon tossed upon cloudy seas   \n",
    "the road was a ribbon of moonlight over the purple moor   \n",
    "and the highwayman came riding \n",
    "riding riding \n",
    "the highwayman came riding, up to the old inn-door \n",
    "''' \n",
    "list_1 = lyrics.split(' ')\n",
    "\n",
    "unique = []\n",
    "[unique.append(word) for word in list_1 if word not in unique]\n",
    "print unique"
   ]
  },
  {
   "cell_type": "code",
   "execution_count": 29,
   "metadata": {
    "collapsed": false
   },
   "outputs": [
    {
     "data": {
      "text/plain": [
       "{'',\n",
       " '\\n',\n",
       " '\\nand',\n",
       " '\\nriding',\n",
       " '\\nthe',\n",
       " 'a',\n",
       " 'among',\n",
       " 'came',\n",
       " 'cloudy',\n",
       " 'darkness',\n",
       " 'galleon',\n",
       " 'ghostly',\n",
       " 'gusty',\n",
       " 'highwayman',\n",
       " 'inn-door',\n",
       " 'moon',\n",
       " 'moonlight',\n",
       " 'moor',\n",
       " 'of',\n",
       " 'old',\n",
       " 'over',\n",
       " 'purple',\n",
       " 'ribbon',\n",
       " 'riding',\n",
       " 'riding,',\n",
       " 'road',\n",
       " 'seas',\n",
       " 'the',\n",
       " 'to',\n",
       " 'torrent',\n",
       " 'tossed',\n",
       " 'trees',\n",
       " 'up',\n",
       " 'upon',\n",
       " 'was',\n",
       " 'wind'}"
      ]
     },
     "execution_count": 29,
     "metadata": {},
     "output_type": "execute_result"
    }
   ],
   "source": [
    "#Question 3\n",
    "\n",
    "lyrics= '''the wind was a torrent of darkness among the gusty trees   \n",
    "the moon was a ghostly galleon tossed upon cloudy seas   \n",
    "the road was a ribbon of moonlight over the purple moor   \n",
    "and the highwayman came riding \n",
    "riding riding \n",
    "the highwayman came riding, up to the old inn-door \n",
    "''' \n",
    "\n",
    "list_1 = lyrics.split(' ')\n",
    "\n",
    "set_1 = set(list_1)\n",
    "set_1\n"
   ]
  },
  {
   "cell_type": "code",
   "execution_count": 30,
   "metadata": {
    "collapsed": false
   },
   "outputs": [
    {
     "name": "stdout",
     "output_type": "stream",
     "text": [
      "{'riding': 2, 'riding,': 1, 'ribbon': 1, 'road': 1}\n"
     ]
    }
   ],
   "source": [
    "#Question 4 Method 1\n",
    "\n",
    "lyrics= '''the wind was a torrent of darkness among the gusty trees   \n",
    "the moon was a ghostly galleon tossed upon cloudy seas   \n",
    "the road was a ribbon of moonlight over the purple moor   \n",
    "and the highwayman came riding \n",
    "riding riding \n",
    "the highwayman came riding, up to the old inn-door \n",
    "''' \n",
    "list_1 = lyrics.split(' ')\n",
    "rwords = [word for word in list_1 if word.startswith('r')]\n",
    "\n",
    "rdict = {}\n",
    "for words in rwords:\n",
    "    rdict[words] = rwords.count(words)\n",
    "print(rdict)"
   ]
  }
 ],
 "metadata": {
  "kernelspec": {
   "display_name": "Python 2",
   "language": "python",
   "name": "python2"
  },
  "language_info": {
   "codemirror_mode": {
    "name": "ipython",
    "version": 2
   },
   "file_extension": ".py",
   "mimetype": "text/x-python",
   "name": "python",
   "nbconvert_exporter": "python",
   "pygments_lexer": "ipython2",
   "version": "2.7.11"
  }
 },
 "nbformat": 4,
 "nbformat_minor": 0
}
