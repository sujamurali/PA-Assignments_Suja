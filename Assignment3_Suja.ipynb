{
 "cells": [
  {
   "cell_type": "code",
   "execution_count": null,
   "metadata": {
    "collapsed": true
   },
   "outputs": [],
   "source": [
    "ASSIGNMENT "
   ]
  },
  {
   "cell_type": "code",
   "execution_count": null,
   "metadata": {
    "collapsed": true
   },
   "outputs": [],
   "source": [
    "#Question 1"
   ]
  },
  {
   "cell_type": "code",
   "execution_count": 6,
   "metadata": {
    "collapsed": false
   },
   "outputs": [],
   "source": [
    "import pandas as pd\n",
    "import glob"
   ]
  },
  {
   "cell_type": "code",
   "execution_count": 7,
   "metadata": {
    "collapsed": false
   },
   "outputs": [],
   "source": [
    "cname = 'msft'\n",
    "fpath = 'C:\\\\Users\\\\kuku\\\\Desktop\\\\data\\\\'"
   ]
  },
  {
   "cell_type": "code",
   "execution_count": 8,
   "metadata": {
    "collapsed": false
   },
   "outputs": [],
   "source": [
    "#Function to read the contents and return a concatenated object\n",
    "def read_files(cname, fpath):\n",
    "    df = pd.DataFrame()\n",
    "    #read files\n",
    "    for name in glob.glob(fpath+cname+'*.csv'):\n",
    "        print name\n",
    "        df = df.append(pd.read_csv(name))\n",
    "    return df       "
   ]
  },
  {
   "cell_type": "code",
   "execution_count": 9,
   "metadata": {
    "collapsed": false
   },
   "outputs": [
    {
     "name": "stdout",
     "output_type": "stream",
     "text": [
      "['C:\\\\Users\\\\kuku\\\\Desktop\\\\data\\\\msft-1-jan15-oct15.csv', 'C:\\\\Users\\\\kuku\\\\Desktop\\\\data\\\\msft-2-jan14-dec14.csv', 'C:\\\\Users\\\\kuku\\\\Desktop\\\\data\\\\msft-3-mar86-dec13.csv']\n"
     ]
    }
   ],
   "source": [
    "#Print all the msft files in the data folder separated by commas\n",
    "print glob.glob(fpath+cname+'*.csv')"
   ]
  },
  {
   "cell_type": "code",
   "execution_count": 10,
   "metadata": {
    "collapsed": false
   },
   "outputs": [],
   "source": [
    "#Function to write files given the company name\n",
    "def write_files(cname, df):\n",
    "    #reads in company name and dictionary object and returns a csv\n",
    "    df = pd.DataFrame(df)\n",
    "    return df.to_csv(cname+'.csv')"
   ]
  },
  {
   "cell_type": "code",
   "execution_count": 11,
   "metadata": {
    "collapsed": false
   },
   "outputs": [
    {
     "name": "stdout",
     "output_type": "stream",
     "text": [
      "C:\\Users\\kuku\\Desktop\\data\\msft-1-jan15-oct15.csv\n",
      "C:\\Users\\kuku\\Desktop\\data\\msft-2-jan14-dec14.csv\n",
      "C:\\Users\\kuku\\Desktop\\data\\msft-3-mar86-dec13.csv\n"
     ]
    }
   ],
   "source": [
    "df1 = read_files(cname,fpath)\n"
   ]
  },
  {
   "cell_type": "code",
   "execution_count": 12,
   "metadata": {
    "collapsed": false
   },
   "outputs": [
    {
     "name": "stdout",
     "output_type": "stream",
     "text": [
      "7466\n"
     ]
    }
   ],
   "source": [
    "#Length of the concatenated file\n",
    "print len(df1)\n",
    "write_files(cname, df1)"
   ]
  },
  {
   "cell_type": "code",
   "execution_count": 13,
   "metadata": {
    "collapsed": false
   },
   "outputs": [
    {
     "data": {
      "text/html": [
       "<div>\n",
       "<table border=\"1\" class=\"dataframe\">\n",
       "  <thead>\n",
       "    <tr style=\"text-align: right;\">\n",
       "      <th></th>\n",
       "      <th>Open</th>\n",
       "      <th>High</th>\n",
       "      <th>Low</th>\n",
       "      <th>Close</th>\n",
       "      <th>Volume</th>\n",
       "      <th>Adj Close</th>\n",
       "    </tr>\n",
       "  </thead>\n",
       "  <tbody>\n",
       "    <tr>\n",
       "      <th>count</th>\n",
       "      <td>7466.000000</td>\n",
       "      <td>7466.000000</td>\n",
       "      <td>7466.000000</td>\n",
       "      <td>7466.000000</td>\n",
       "      <td>7.466000e+03</td>\n",
       "      <td>7466.000000</td>\n",
       "    </tr>\n",
       "    <tr>\n",
       "      <th>mean</th>\n",
       "      <td>59.369049</td>\n",
       "      <td>60.230804</td>\n",
       "      <td>58.538750</td>\n",
       "      <td>59.413234</td>\n",
       "      <td>6.507268e+07</td>\n",
       "      <td>15.902287</td>\n",
       "    </tr>\n",
       "    <tr>\n",
       "      <th>std</th>\n",
       "      <td>33.589476</td>\n",
       "      <td>34.122503</td>\n",
       "      <td>33.054879</td>\n",
       "      <td>33.629037</td>\n",
       "      <td>3.915915e+07</td>\n",
       "      <td>12.659158</td>\n",
       "    </tr>\n",
       "    <tr>\n",
       "      <th>min</th>\n",
       "      <td>15.200000</td>\n",
       "      <td>15.620000</td>\n",
       "      <td>14.870000</td>\n",
       "      <td>15.150000</td>\n",
       "      <td>2.304000e+06</td>\n",
       "      <td>0.063407</td>\n",
       "    </tr>\n",
       "    <tr>\n",
       "      <th>25%</th>\n",
       "      <td>28.442501</td>\n",
       "      <td>28.742500</td>\n",
       "      <td>28.162500</td>\n",
       "      <td>28.450001</td>\n",
       "      <td>4.280170e+07</td>\n",
       "      <td>1.868327</td>\n",
       "    </tr>\n",
       "    <tr>\n",
       "      <th>50%</th>\n",
       "      <td>52.315000</td>\n",
       "      <td>53.249758</td>\n",
       "      <td>51.459999</td>\n",
       "      <td>52.269998</td>\n",
       "      <td>5.783055e+07</td>\n",
       "      <td>18.745886</td>\n",
       "    </tr>\n",
       "    <tr>\n",
       "      <th>75%</th>\n",
       "      <td>84.750076</td>\n",
       "      <td>85.750076</td>\n",
       "      <td>83.500160</td>\n",
       "      <td>84.750076</td>\n",
       "      <td>7.758070e+07</td>\n",
       "      <td>24.088133</td>\n",
       "    </tr>\n",
       "    <tr>\n",
       "      <th>max</th>\n",
       "      <td>178.937515</td>\n",
       "      <td>180.375000</td>\n",
       "      <td>175.750000</td>\n",
       "      <td>179.937515</td>\n",
       "      <td>1.031789e+09</td>\n",
       "      <td>48.522598</td>\n",
       "    </tr>\n",
       "  </tbody>\n",
       "</table>\n",
       "</div>"
      ],
      "text/plain": [
       "              Open         High          Low        Close        Volume  \\\n",
       "count  7466.000000  7466.000000  7466.000000  7466.000000  7.466000e+03   \n",
       "mean     59.369049    60.230804    58.538750    59.413234  6.507268e+07   \n",
       "std      33.589476    34.122503    33.054879    33.629037  3.915915e+07   \n",
       "min      15.200000    15.620000    14.870000    15.150000  2.304000e+06   \n",
       "25%      28.442501    28.742500    28.162500    28.450001  4.280170e+07   \n",
       "50%      52.315000    53.249758    51.459999    52.269998  5.783055e+07   \n",
       "75%      84.750076    85.750076    83.500160    84.750076  7.758070e+07   \n",
       "max     178.937515   180.375000   175.750000   179.937515  1.031789e+09   \n",
       "\n",
       "         Adj Close  \n",
       "count  7466.000000  \n",
       "mean     15.902287  \n",
       "std      12.659158  \n",
       "min       0.063407  \n",
       "25%       1.868327  \n",
       "50%      18.745886  \n",
       "75%      24.088133  \n",
       "max      48.522598  "
      ]
     },
     "execution_count": 13,
     "metadata": {},
     "output_type": "execute_result"
    }
   ],
   "source": [
    "#Question 2 \n",
    "#descriptive statistics for df1\n",
    "df1.describe()"
   ]
  },
  {
   "cell_type": "code",
   "execution_count": 5,
   "metadata": {
    "collapsed": false
   },
   "outputs": [
    {
     "name": "stdout",
     "output_type": "stream",
     "text": [
      "C:\\Users\\kuku\n"
     ]
    }
   ],
   "source": [
    "#Locate the new concatenated file\n",
    "import os\n",
    "print os.getcwd()"
   ]
  },
  {
   "cell_type": "code",
   "execution_count": null,
   "metadata": {
    "collapsed": true
   },
   "outputs": [],
   "source": []
  },
  {
   "cell_type": "code",
   "execution_count": null,
   "metadata": {
    "collapsed": true
   },
   "outputs": [],
   "source": []
  }
 ],
 "metadata": {
  "kernelspec": {
   "display_name": "Python 2",
   "language": "python",
   "name": "python2"
  },
  "language_info": {
   "codemirror_mode": {
    "name": "ipython",
    "version": 2
   },
   "file_extension": ".py",
   "mimetype": "text/x-python",
   "name": "python",
   "nbconvert_exporter": "python",
   "pygments_lexer": "ipython2",
   "version": "2.7.11"
  }
 },
 "nbformat": 4,
 "nbformat_minor": 0
}
